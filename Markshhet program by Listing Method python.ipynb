{
 "cells": [
  {
   "cell_type": "code",
   "execution_count": 13,
   "metadata": {},
   "outputs": [],
   "source": [
    "#practice for listings"
   ]
  },
  {
   "cell_type": "code",
   "execution_count": 14,
   "metadata": {},
   "outputs": [],
   "source": [
    "subjects = ['Englsih' , 'Maths' , 'Coumputer' , 'History' , 'Science']"
   ]
  },
  {
   "cell_type": "code",
   "execution_count": 15,
   "metadata": {},
   "outputs": [],
   "source": [
    "marks = [ '90' , '60' , '85' , '75' , '80']"
   ]
  },
  {
   "cell_type": "code",
   "execution_count": 33,
   "metadata": {},
   "outputs": [
    {
     "ename": "SyntaxError",
     "evalue": "invalid syntax (<ipython-input-33-1bff767e7c7b>, line 6)",
     "output_type": "error",
     "traceback": [
      "\u001b[1;36m  File \u001b[1;32m\"<ipython-input-33-1bff767e7c7b>\"\u001b[1;36m, line \u001b[1;32m6\u001b[0m\n\u001b[1;33m    print ((subjects[2]) , ('                 ') ,(marks[2]))\u001b[0m\n\u001b[1;37m        ^\u001b[0m\n\u001b[1;31mSyntaxError\u001b[0m\u001b[1;31m:\u001b[0m invalid syntax\n"
     ]
    }
   ],
   "source": [
    "print ('Student Name :         Ashhad Azeem')\n",
    "print ('father name :          Fazal ul Qadir')\n",
    "print ('Roll No :              784ATH')\n",
    "print ((subjects[0]) , ('                 ') , (marks[0]))\n",
    "print ((subjects[1],('                 ')     , (marks[1]))\n",
    "print ((subjects[2]) , ('                 ') ,(marks[2]))\n",
    "print ((subjects [3]) , ('                 ') , (marks[3]))\n",
    "print ((subjects[4]) , ('                 ') , (marks[4]))\n"
   ]
  },
  {
   "cell_type": "code",
   "execution_count": 35,
   "metadata": {},
   "outputs": [
    {
     "ename": "SyntaxError",
     "evalue": "unexpected EOF while parsing (<ipython-input-35-30523934bc15>, line 11)",
     "output_type": "error",
     "traceback": [
      "\u001b[1;36m  File \u001b[1;32m\"<ipython-input-35-30523934bc15>\"\u001b[1;36m, line \u001b[1;32m11\u001b[0m\n\u001b[1;33m    print ((\"Total Marks\" + (marks[0] + marks[1] + marks[2] + marks[3] + marks [4]))\u001b[0m\n\u001b[1;37m                                                                                    ^\u001b[0m\n\u001b[1;31mSyntaxError\u001b[0m\u001b[1;31m:\u001b[0m unexpected EOF while parsing\n"
     ]
    }
   ],
   "source": [
    "subjects = ['Englsih' , 'Maths' , 'Coumputer' , 'History' , 'Science']\n",
    "marks = [ '90' , '60' , '85' , '75' , '80']\n",
    "print ('Student Name :         Ashhad Azeem')\n",
    "print ('father name :          Fazal ul Qadir')\n",
    "print ('Roll No :              784ATH')\n",
    "print ((subjects[0]) , ('                 ') , (marks[0]))\n",
    "print ((subjects[1]),('                 ')     , (marks[1]))\n",
    "print ((subjects[2]) , ('                 ') ,(marks[2]))\n",
    "print ((subjects [3]) , ('                 ') , (marks[3]))\n",
    "print ((subjects[4]) , ('                 ') , (marks[4]))\n",
    "print ((\"Total Marks\" + (marks[0] + marks[1] + marks[2] + marks[3] + marks [4]))"
   ]
  },
  {
   "cell_type": "code",
   "execution_count": 8,
   "metadata": {},
   "outputs": [
    {
     "name": "stdout",
     "output_type": "stream",
     "text": [
      "Student Name :         Ashhad Azeem\n",
      "father name :          Fazal ul Qadir\n",
      "Roll No :              784ATH\n",
      "Englsih                   90\n",
      "Maths                     60\n",
      "Coumputer                 85\n",
      "History                   75\n",
      "Science                   80\n",
      "Total Marks               390\n"
     ]
    }
   ],
   "source": [
    "subjects = ['Englsih' , 'Maths' , 'Coumputer' , 'History' , 'Science']\n",
    "marks = [ 90 , 60 , 85 , 75 , 80]\n",
    "print ('Student Name :         Ashhad Azeem')\n",
    "print ('father name :          Fazal ul Qadir')\n",
    "print ('Roll No :              784ATH')\n",
    "print ((subjects[0]) , ('                 ') , (marks[0]))\n",
    "print ((subjects[1]),('                   ')     , (marks[1]))\n",
    "print ((subjects[2]) , ('               ') ,(marks[2]))\n",
    "print ((subjects [3]) , ('                 ') , (marks[3]))\n",
    "print ((subjects[4]) , ('                 ') , (marks[4]))\n",
    "print ((\"Total Marks\") + \"               \" + str(marks[0] + marks[1] + marks[2] + marks[3] + marks[4]))"
   ]
  },
  {
   "cell_type": "code",
   "execution_count": null,
   "metadata": {},
   "outputs": [],
   "source": []
  }
 ],
 "metadata": {
  "kernelspec": {
   "display_name": "Python 3",
   "language": "python",
   "name": "python3"
  },
  "language_info": {
   "codemirror_mode": {
    "name": "ipython",
    "version": 3
   },
   "file_extension": ".py",
   "mimetype": "text/x-python",
   "name": "python",
   "nbconvert_exporter": "python",
   "pygments_lexer": "ipython3",
   "version": "3.7.3"
  }
 },
 "nbformat": 4,
 "nbformat_minor": 2
}
